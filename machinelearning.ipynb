{
  "nbformat": 4,
  "nbformat_minor": 0,
  "metadata": {
    "colab": {
      "provenance": [],
      "toc_visible": true,
      "authorship_tag": "ABX9TyNWwIQKh3IHh02c6MgBCzPa",
      "include_colab_link": true
    },
    "kernelspec": {
      "name": "python3",
      "display_name": "Python 3"
    },
    "language_info": {
      "name": "python"
    }
  },
  "cells": [
    {
      "cell_type": "markdown",
      "metadata": {
        "id": "view-in-github",
        "colab_type": "text"
      },
      "source": [
        "<a href=\"https://colab.research.google.com/github/Nicocoding/AI/blob/main/machinelearning.ipynb\" target=\"_parent\"><img src=\"https://colab.research.google.com/assets/colab-badge.svg\" alt=\"Open In Colab\"/></a>"
      ]
    },
    {
      "cell_type": "code",
      "source": [
        "!pip install transformers"
      ],
      "metadata": {
        "id": "H6B3AG-korXe"
      },
      "execution_count": null,
      "outputs": []
    },
    {
      "cell_type": "code",
      "source": [
        "from transformers import pipeline\n",
        "classifier = pipeline(\"question-answering\",\"timpal0l/mdeberta-v3-base-squad2\")\n",
        "context = \"\"\"\n",
        "Dr. Emily Carter, a renowned marine biologist, has spent her life traveling\n",
        "the globe to protect and conserve endangered marine species. Born in 1982 in\n",
        "a small coastal town in Maine, Emily grew up surrounded by the Atlantic Ocean,\n",
        "fostering a deep love for the sea. Her fascination with marine life began early,\n",
        "as she spent her childhood exploring tide pools, observing sea creatures,\n",
        "and dreaming of becoming a scientist who could make a difference in the world.\n",
        "Emily pursued her passion by studying marine biology at the University of Miami,\n",
        "where she graduated with honors. She went on to earn her Ph.D. in Marine Ecology\n",
        "from the Scripps Institution of Oceanography, focusing her research on the\n",
        "behavioral patterns of endangered marine species. Her groundbreaking dissertation\n",
        "on the migration patterns of whale sharks earned her international recognition,\n",
        "opening doors to numerous research expeditions.\n",
        "In the waters off the coast of Australia, Emily conducted some of her most\n",
        "groundbreaking work on coral reefs. In collaboration with leading climate scientists,\n",
        "she developed innovative coral restoration techniques to combat the devastating\n",
        "effects of bleaching caused by rising ocean temperatures. Her research played a\n",
        "pivotal role in the rehabilitation of the Great Barrier Reef, earning her the\n",
        "nickname \"The Coral Queen\" in the scientific community.\n",
        "In 2022, Dr. Carter founded the Ocean Guardians Initiative, a non-profit organization aimed\n",
        "at raising global awareness about marine conservation and inspiring the next generation of\n",
        "ocean protectors. Today, Dr. Emily Carter continues to travel the world, working to protect\n",
        "endangered species and preserve the ocean's delicate ecosystems. Whether she's\n",
        "tagging leatherback turtles in the Caribbean or campaigning for stricter marine\n",
        "pollution regulations at the United Nations, her legacy as a marine biologist,\n",
        "conservationist, and global advocate is undeniable.\n",
        "\"\"\"\n",
        "\n",
        "question1 = \"Which non-profit organization did Emily found?\"\n",
        "question2 = \"Has Emily worked with corals??\"\n",
        "question = question2\n",
        "answer = classifier(question = question, context = context)\n",
        "print(answer['answer'])\n",
        "\n"
      ],
      "metadata": {
        "colab": {
          "base_uri": "https://localhost:8080/"
        },
        "id": "6zJYySOnj8lz",
        "outputId": "9e46a8ef-494a-4ce2-a531-542ae9ad27f8",
        "collapsed": true
      },
      "execution_count": null,
      "outputs": [
        {
          "output_type": "stream",
          "name": "stdout",
          "text": [
            " Emily conducted some of her most \n",
            "groundbreaking work on coral reefs.\n"
          ]
        }
      ]
    }
  ]
}